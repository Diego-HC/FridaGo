{
 "cells": [
  {
   "cell_type": "code",
   "execution_count": 5,
   "metadata": {},
   "outputs": [],
   "source": [
    "import csv\n",
    "import requests\n",
    "import json\n",
    "import random"
   ]
  },
  {
   "cell_type": "code",
   "execution_count": 2,
   "metadata": {},
   "outputs": [],
   "source": [
    "\"\"\"\n",
    "const endpoint = \"https://api.bing.microsoft.com/v7.0/images/search\";\n",
    "\n",
    "async function getImage({ query }: { query: string }) {\n",
    "  const res = await fetch(`${endpoint}?q=${query}&count=1`, {\n",
    "    headers: {\n",
    "      \"Ocp-Apim-Subscription-Key\": \"6081c9fff16b4c339cf8656656eb40eb\",\n",
    "    },\n",
    "  });\n",
    "  const json = (await res.json()) as { value: { contentUrl: string }[] };\n",
    "  if (res.ok && json?.value[0]?.contentUrl) {\n",
    "    return json.value[0].contentUrl;\n",
    "  }\n",
    "  // return json;\n",
    "  return null;\n",
    "}\n",
    "\"\"\"\n",
    "ENDPINT = \"https://api.bing.microsoft.com/v7.0/images/search\"\n",
    "\n",
    "\n",
    "async def get_image_from_text(text):\n",
    "    headers = {\n",
    "        \"Ocp-Apim-Subscription-Key\": \"6081c9fff16b4c339cf8656656eb40eb\",\n",
    "    }\n",
    "    params = {\n",
    "        \"q\": text,\n",
    "        \"count\": 1,\n",
    "    }\n",
    "    res = requests.get(ENDPINT, headers=headers, params=params)\n",
    "    if res.ok:\n",
    "        json = res.json()\n",
    "        if json and json.get(\"value\") and json[\"value\"][0].get(\"contentUrl\"):\n",
    "            return json[\"value\"][0][\"contentUrl\"]\n",
    "    return None"
   ]
  },
  {
   "cell_type": "code",
   "execution_count": 9,
   "metadata": {},
   "outputs": [],
   "source": [
    "file = open(\"ingredients.csv\", \"r\")\n",
    "reader = csv.reader(file)\n",
    "next(reader)\n",
    "outputfile = open(\"output.csv\", \"w\")\n",
    "outputfile.write(\"name,description,image_url,location\\n\")\n",
    "for row in reader:  # name, description\n",
    "    name, description = row\n",
    "    image_url = await get_image_from_text(name)\n",
    "    loc = random.choice([\"fridge\", \"pantry\", \"freezer\"])\n",
    "    text = f'\"{name}\",\"{description}\",\"{image_url}\",\"{loc}\"\\n'\n",
    "    outputfile.write(text)\n",
    "    # print(text, image_url)"
   ]
  },
  {
   "cell_type": "code",
   "execution_count": null,
   "metadata": {},
   "outputs": [],
   "source": [
    "# file = open(\"output.csv\", \"r\")\n",
    "# reader = csv.reader(file)\n",
    "# next(reader)\n",
    "# outputfile = open(\"output.csv\", \"w\")\n",
    "# outputfile.write(\"name,description,image_url,location\\n\")\n",
    "# for row in reader:"
   ]
  }
 ],
 "metadata": {
  "kernelspec": {
   "display_name": "Python 3",
   "language": "python",
   "name": "python3"
  },
  "language_info": {
   "codemirror_mode": {
    "name": "ipython",
    "version": 3
   },
   "file_extension": ".py",
   "mimetype": "text/x-python",
   "name": "python",
   "nbconvert_exporter": "python",
   "pygments_lexer": "ipython3",
   "version": "3.10.11"
  }
 },
 "nbformat": 4,
 "nbformat_minor": 2
}
